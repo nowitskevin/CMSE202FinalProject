{
 "cells": [
  {
   "cell_type": "code",
   "execution_count": null,
   "id": "2202377a-9c08-47b6-8201-b016c02131a1",
   "metadata": {},
   "outputs": [],
   "source": [
    "!pip install lyapynov\n",
    "import numpy as np\n",
    "from numdifftools import Jacobian, Hessian\n",
    "from scipy.optimize import minimize\n",
    "\n",
    "def fun_der(x, a):\n",
    "    return Jacobian(lambda x: fun(x))(x).ravel()\n",
    "\n",
    "import lyapynov\n",
    "\n",
    "# Continous dynamical system\n",
    "continuous_system = lyapynov.ContinuousDS(x1_sol, 0, f = y1_sol, jac = fun_der(x_sol, y_sol), dt = 0.1)\n",
    "\n",
    "# Compute maximal 1-LCE\n",
    "def mLCE(system : DynamicalSystem, n_forward : int, n_compute : int, keep : bool):\n",
    "    '''\n",
    "    Compute the maximal 1-LCE.\n",
    "        Parameters:\n",
    "            system (DynamicalSystem): Dynamical system for which we want to compute the mLCE.\n",
    "            n_forward (int): Number of steps before starting the mLCE computation. \n",
    "            n_compute (int): Number of steps to compute the mLCE, can be adjusted using keep_evolution.\n",
    "            keep (bool): If True return a numpy array of dimension (n_compute,) containing the evolution of mLCE.\n",
    "        Returns:\n",
    "            mLCE (float): Maximum 1-LCE.\n",
    "            history (numpy.ndarray): Evolution of mLCE during the computation.\n",
    "    '''\n",
    "    # Forward the system before the computation of mLCE\n",
    "    system.forward(n_forward, False)\n",
    "    \n",
    "    # Compute the mLCE\n",
    "    mLCE = 0.\n",
    "    w = np.random.rand(system.dim)\n",
    "    w = w / np.linalg.norm(w)\n",
    "    if keep:\n",
    "        history = np.zeros(n_compute)\n",
    "        for i in range(1, n_compute + 1):\n",
    "            w = system.next_LTM(w)\n",
    "            system.forward(1, False)\n",
    "            mLCE += np.log(np.linalg.norm(w))\n",
    "            history[i-1] = mLCE / (i * system.dt)\n",
    "            w = w / np.linalg.norm(w)\n",
    "        mLCE = mLCE / (n_compute * system.dt)\n",
    "        return mLCE, history\n",
    "    else:\n",
    "        for _ in range(n_compute):\n",
    "            w = system.next_LTM(w)\n",
    "            system.forward(1, False)\n",
    "            mLCE += np.log(np.linalg.norm(w))\n",
    "            w = w / np.linalg.norm(w)\n",
    "        mLCE = mLCE / (n_compute * system.dt)\n",
    "        return mLCE"
   ]
  }
 ],
 "metadata": {
  "kernelspec": {
   "display_name": "Python 3.11 (default)",
   "language": "python",
   "name": "python3"
  },
  "language_info": {
   "codemirror_mode": {
    "name": "ipython",
    "version": 3
   },
   "file_extension": ".py",
   "mimetype": "text/x-python",
   "name": "python",
   "nbconvert_exporter": "python",
   "pygments_lexer": "ipython3",
   "version": "3.11.9"
  }
 },
 "nbformat": 4,
 "nbformat_minor": 5
}
