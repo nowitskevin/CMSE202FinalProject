{
 "cells": [
  {
   "cell_type": "code",
   "execution_count": 1,
   "metadata": {},
   "outputs": [
    {
     "data": {
      "application/vnd.jupyter.widget-view+json": {
       "model_id": "6bbbca74963340eabce54d9c32307f22",
       "version_major": 2,
       "version_minor": 0
      },
      "text/plain": [
       "VBox(children=(FloatSlider(value=1.0, description='G', max=10.0, min=0.1), FloatSlider(value=1.0, description=…"
      ]
     },
     "metadata": {},
     "output_type": "display_data"
    },
    {
     "data": {
      "application/vnd.jupyter.widget-view+json": {
       "model_id": "d4017df11aa2431d9198941458a989f6",
       "version_major": 2,
       "version_minor": 0
      },
      "text/plain": [
       "interactive(children=(FloatSlider(value=1.0, description='G', max=10.0, min=0.1), FloatSlider(value=1.0, descr…"
      ]
     },
     "execution_count": 1,
     "metadata": {},
     "output_type": "execute_result"
    }
   ],
   "source": [
    "import numpy as np\n",
    "from scipy.integrate import solve_ivp\n",
    "import matplotlib.pyplot as plt\n",
    "from IPython.display import display, clear_output\n",
    "import ipywidgets as widgets\n",
    "from ipywidgets import VBox\n",
    "import time\n",
    "\n",
    "# Initial values\n",
    "initial_G = 1.0\n",
    "initial_m1 = 1.0\n",
    "initial_m2 = 1.0\n",
    "initial_m3 = 1.0\n",
    "\n",
    "# Sliders for G, m1, m2, and m3\n",
    "G_slider = widgets.FloatSlider(value=initial_G, min=0.1, max=10.0, step=0.1, description=\"G\")\n",
    "m1_slider = widgets.FloatSlider(value=initial_m1, min=0.1, max=10.0, step=0.1, description=\"m1\")\n",
    "m2_slider = widgets.FloatSlider(value=initial_m2, min=0.1, max=10.0, step=0.1, description=\"m2\")\n",
    "m3_slider = widgets.FloatSlider(value=initial_m3, min=0.1, max=10.0, step=0.1, description=\"m3\")\n",
    "\n",
    "# Display sliders\n",
    "display(VBox([G_slider, m1_slider, m2_slider, m3_slider]))\n",
    "\n",
    "# Define the equations of motion\n",
    "def three_body_eq(t, y, G, m1, m2, m3):\n",
    "    x1, y1, x2, y2, x3, y3 = y[0:6]\n",
    "    vx1, vy1, vx2, vy2, vx3, vy3 = y[6:12]\n",
    "    r12 = np.sqrt((x2 - x1)**2 + (y2 - y1)**2)\n",
    "    r13 = np.sqrt((x3 - x1)**2 + (y3 - y1)**2)\n",
    "    r23 = np.sqrt((x3 - x2)**2 + (y3 - y2)**2)\n",
    "    \n",
    "    ax1 = G * m2 * (x2 - x1) / r12**3 + G * m3 * (x3 - x1) / r13**3\n",
    "    ay1 = G * m2 * (y2 - y1) / r12**3 + G * m3 * (y3 - y1) / r13**3\n",
    "    \n",
    "    ax2 = G * m1 * (x1 - x2) / r12**3 + G * m3 * (x3 - x2) / r23**3\n",
    "    ay2 = G * m1 * (y1 - y2) / r12**3 + G * m3 * (y3 - y2) / r23**3\n",
    "    \n",
    "    ax3 = G * m1 * (x1 - x3) / r13**3 + G * m2 * (x2 - x3) / r23**3\n",
    "    ay3 = G * m1 * (y1 - y3) / r13**3 + G * m2 * (y2 - y3) / r23**3\n",
    "    \n",
    "    return [vx1, vy1, vx2, vy2, vx3, vy3, ax1, ay1, ax2, ay2, ax3, ay3]\n",
    "\n",
    "# Animation function with real-time parameter updates\n",
    "def animate_three_body(G, m1, m2, m3):\n",
    "    # Initial conditions for a periodic orbit\n",
    "    x1, y1 = 0.970, 0.243\n",
    "    x2, y2 = -0.970, -0.243\n",
    "    x3, y3 = 0.0, 0.0\n",
    "    vx1, vy1 = 0.466, -0.432\n",
    "    vx2, vy2 = 0.466, -0.432\n",
    "    vx3, vy3 = -2 * 0.466, 2 * 0.432\n",
    "    y0 = [x1, y1, x2, y2, x3, y3, vx1, vy1, vx2, vy2, vx3, vy3]\n",
    "\n",
    "    # Time span and evaluation points\n",
    "    t_span = (0, 5)\n",
    "    t_eval = np.linspace(*t_span, 100)\n",
    "\n",
    "    # Solving the equations\n",
    "    solution = solve_ivp(three_body_eq, t_span, y0, args=(G, m1, m2, m3), t_eval=t_eval, rtol=1e-9)\n",
    "    x1_sol, y1_sol = solution.y[0], solution.y[1]\n",
    "    x2_sol, y2_sol = solution.y[2], solution.y[3]\n",
    "    x3_sol, y3_sol = solution.y[4], solution.y[5]\n",
    "\n",
    "    # Setting up the figure\n",
    "    fig, ax = plt.subplots()\n",
    "    ax.set_xlim(-2, 2)\n",
    "    ax.set_ylim(-2, 2)\n",
    "    ax.set_aspect('equal')\n",
    "    ax.grid()\n",
    "\n",
    "    # Function to update and display each frame\n",
    "    for frame in range(len(t_eval)):\n",
    "        ax.clear()\n",
    "        ax.set_xlim(-2, 2)\n",
    "        ax.set_ylim(-2, 2)\n",
    "        ax.set_aspect('equal')\n",
    "        ax.grid()\n",
    "\n",
    "        # Plot positions of the bodies\n",
    "        ax.plot(x1_sol[frame], y1_sol[frame], 'ro', label=\"Body 1\")\n",
    "        ax.plot(x2_sol[frame], y2_sol[frame], 'bo', label=\"Body 2\")\n",
    "        ax.plot(x3_sol[frame], y3_sol[frame], 'go', label=\"Body 3\")\n",
    "\n",
    "        # Plot trails up to the current frame\n",
    "        ax.plot(x1_sol[:frame], y1_sol[:frame], 'r-', lw=0.5)\n",
    "        ax.plot(x2_sol[:frame], y2_sol[:frame], 'b-', lw=0.5)\n",
    "        ax.plot(x3_sol[:frame], y3_sol[:frame], 'g-', lw=0.5)\n",
    "\n",
    "        ax.legend()\n",
    "        ax.set_title(\"Three-Body Problem Animation\")\n",
    "        ax.set_xlabel(\"x\")\n",
    "        ax.set_ylabel(\"y\")\n",
    "\n",
    "        # Display the frame\n",
    "        display(fig)\n",
    "        clear_output(wait=True)\n",
    "        time.sleep(0.01)  # Adjust the delay to control animation speed\n",
    "\n",
    "    plt.close(fig)  # Close the plot when done\n",
    "\n",
    "# Bind the sliders to the animation function to update continuously\n",
    "widgets.interactive(animate_three_body, G=G_slider, m1=m1_slider, m2=m2_slider, m3=m3_slider)\n"
   ]
  },
  {
   "cell_type": "code",
   "execution_count": null,
   "metadata": {},
   "outputs": [],
   "source": []
  }
 ],
 "metadata": {
  "kernelspec": {
   "display_name": ".venv",
   "language": "python",
   "name": "python3"
  },
  "language_info": {
   "codemirror_mode": {
    "name": "ipython",
    "version": 3
   },
   "file_extension": ".py",
   "mimetype": "text/x-python",
   "name": "python",
   "nbconvert_exporter": "python",
   "pygments_lexer": "ipython3",
   "version": "3.12.4"
  }
 },
 "nbformat": 4,
 "nbformat_minor": 2
}
